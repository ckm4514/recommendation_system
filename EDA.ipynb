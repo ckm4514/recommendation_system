{
 "cells": [
  {
   "cell_type": "markdown",
   "metadata": {},
   "source": [
    "\n",
    "## 데이터 EDA "
   ]
  },
  {
   "cell_type": "code",
   "execution_count": 2,
   "metadata": {},
   "outputs": [],
   "source": [
    "from collections import Counter\n",
    "from datetime import timedelta, datetime, date\n",
    "import glob\n",
    "from itertools import chain\n",
    "import json\n",
    "import os\n",
    "import re"
   ]
  },
  {
   "cell_type": "code",
   "execution_count": 3,
   "metadata": {},
   "outputs": [],
   "source": [
    "import matplotlib.pyplot as plt\n",
    "import numpy as np\n",
    "import pandas as pd\n",
    "from pandas.plotting import register_matplotlib_converters\n",
    "import seaborn as sns"
   ]
  },
  {
   "cell_type": "code",
   "execution_count": 4,
   "metadata": {},
   "outputs": [],
   "source": [
    "import matplotlib\n",
    "import matplotlib.pyplot as plt\n",
    "import matplotlib.font_manager as fm\n",
    "font_path = '/Users/seungmi/Library/Android/sdk/platforms/android-29/data/fonts/NanumGothic.ttf'\n",
    "font_name = fm.FontProperties(fname=font_path, size=10).get_name()\n",
    "plt.rc('font', family=font_name, size=12)\n",
    "plt.rcParams[\"figure.figsize\"] = (20, 10)\n",
    "register_matplotlib_converters()"
   ]
  },
  {
   "cell_type": "code",
   "execution_count": 5,
   "metadata": {},
   "outputs": [],
   "source": [
    "directory = 'data/'"
   ]
  },
  {
   "cell_type": "code",
   "execution_count": null,
   "metadata": {},
   "outputs": [],
   "source": []
  },
  {
   "cell_type": "markdown",
   "metadata": {},
   "source": [
    "## 1. Data Read"
   ]
  },
  {
   "cell_type": "markdown",
   "metadata": {},
   "source": [
    "### a. Magazine.json"
   ]
  },
  {
   "cell_type": "code",
   "execution_count": 6,
   "metadata": {},
   "outputs": [],
   "source": [
    "magazine = pd.read_json(directory + 'magazine.json', lines=True)"
   ]
  },
  {
   "cell_type": "code",
   "execution_count": 7,
   "metadata": {},
   "outputs": [
    {
     "data": {
      "text/plain": [
       "(27967, 2)"
      ]
     },
     "execution_count": 7,
     "metadata": {},
     "output_type": "execute_result"
    }
   ],
   "source": [
    "magazine.shape"
   ]
  },
  {
   "cell_type": "code",
   "execution_count": 8,
   "metadata": {},
   "outputs": [
    {
     "data": {
      "text/html": [
       "<div>\n",
       "<style scoped>\n",
       "    .dataframe tbody tr th:only-of-type {\n",
       "        vertical-align: middle;\n",
       "    }\n",
       "\n",
       "    .dataframe tbody tr th {\n",
       "        vertical-align: top;\n",
       "    }\n",
       "\n",
       "    .dataframe thead th {\n",
       "        text-align: right;\n",
       "    }\n",
       "</style>\n",
       "<table border=\"1\" class=\"dataframe\">\n",
       "  <thead>\n",
       "    <tr style=\"text-align: right;\">\n",
       "      <th></th>\n",
       "      <th>magazine_tag_list</th>\n",
       "      <th>id</th>\n",
       "    </tr>\n",
       "  </thead>\n",
       "  <tbody>\n",
       "    <tr>\n",
       "      <th>0</th>\n",
       "      <td>[브런치북, 육아일기, 대화법, 들려주고픈이야기]</td>\n",
       "      <td>38842</td>\n",
       "    </tr>\n",
       "    <tr>\n",
       "      <th>1</th>\n",
       "      <td>[tea, food]</td>\n",
       "      <td>11540</td>\n",
       "    </tr>\n",
       "    <tr>\n",
       "      <th>2</th>\n",
       "      <td>[food]</td>\n",
       "      <td>11541</td>\n",
       "    </tr>\n",
       "    <tr>\n",
       "      <th>3</th>\n",
       "      <td>[브런치북, 일상, 시, 사람]</td>\n",
       "      <td>11546</td>\n",
       "    </tr>\n",
       "    <tr>\n",
       "      <th>4</th>\n",
       "      <td>[감성에세이, 노래, 음악에세이]</td>\n",
       "      <td>11544</td>\n",
       "    </tr>\n",
       "  </tbody>\n",
       "</table>\n",
       "</div>"
      ],
      "text/plain": [
       "             magazine_tag_list     id\n",
       "0  [브런치북, 육아일기, 대화법, 들려주고픈이야기]  38842\n",
       "1                  [tea, food]  11540\n",
       "2                       [food]  11541\n",
       "3            [브런치북, 일상, 시, 사람]  11546\n",
       "4           [감성에세이, 노래, 음악에세이]  11544"
      ]
     },
     "execution_count": 8,
     "metadata": {},
     "output_type": "execute_result"
    }
   ],
   "source": [
    "magazine.head()"
   ]
  },
  {
   "cell_type": "markdown",
   "metadata": {},
   "source": [
    "### b. Metadata.json"
   ]
  },
  {
   "cell_type": "code",
   "execution_count": 9,
   "metadata": {},
   "outputs": [],
   "source": [
    "metadata = pd.read_json(directory + 'metadata.json', lines=True)"
   ]
  },
  {
   "cell_type": "code",
   "execution_count": 10,
   "metadata": {},
   "outputs": [
    {
     "data": {
      "text/plain": [
       "(643104, 9)"
      ]
     },
     "execution_count": 10,
     "metadata": {},
     "output_type": "execute_result"
    }
   ],
   "source": [
    "metadata.shape"
   ]
  },
  {
   "cell_type": "code",
   "execution_count": 11,
   "metadata": {},
   "outputs": [
    {
     "data": {
      "text/html": [
       "<div>\n",
       "<style scoped>\n",
       "    .dataframe tbody tr th:only-of-type {\n",
       "        vertical-align: middle;\n",
       "    }\n",
       "\n",
       "    .dataframe tbody tr th {\n",
       "        vertical-align: top;\n",
       "    }\n",
       "\n",
       "    .dataframe thead th {\n",
       "        text-align: right;\n",
       "    }\n",
       "</style>\n",
       "<table border=\"1\" class=\"dataframe\">\n",
       "  <thead>\n",
       "    <tr style=\"text-align: right;\">\n",
       "      <th></th>\n",
       "      <th>magazine_id</th>\n",
       "      <th>user_id</th>\n",
       "      <th>title</th>\n",
       "      <th>keyword_list</th>\n",
       "      <th>display_url</th>\n",
       "      <th>sub_title</th>\n",
       "      <th>reg_ts</th>\n",
       "      <th>article_id</th>\n",
       "      <th>id</th>\n",
       "    </tr>\n",
       "  </thead>\n",
       "  <tbody>\n",
       "    <tr>\n",
       "      <th>0</th>\n",
       "      <td>8982</td>\n",
       "      <td>@bookdb</td>\n",
       "      <td>사진으로 옮기기에도 아까운, 리치필드 국립공원</td>\n",
       "      <td>[여행, 호주, 국립공원]</td>\n",
       "      <td>https://brunch.co.kr/@bookdb/782</td>\n",
       "      <td>세상 어디에도 없는 호주 Top 10</td>\n",
       "      <td>1474944427000</td>\n",
       "      <td>782</td>\n",
       "      <td>@bookdb_782</td>\n",
       "    </tr>\n",
       "    <tr>\n",
       "      <th>1</th>\n",
       "      <td>12081</td>\n",
       "      <td>@kohwang56</td>\n",
       "      <td>[시] 서러운 봄</td>\n",
       "      <td>[목련꽃, 아지랑이, 동행]</td>\n",
       "      <td>https://brunch.co.kr/@kohwang56/81</td>\n",
       "      <td></td>\n",
       "      <td>1463092749000</td>\n",
       "      <td>81</td>\n",
       "      <td>@kohwang56_81</td>\n",
       "    </tr>\n",
       "    <tr>\n",
       "      <th>2</th>\n",
       "      <td>0</td>\n",
       "      <td>@hannahajink</td>\n",
       "      <td>무엇을 위해</td>\n",
       "      <td>[]</td>\n",
       "      <td>https://brunch.co.kr/@hannahajink/4</td>\n",
       "      <td>무엇 때문에</td>\n",
       "      <td>1447997287000</td>\n",
       "      <td>4</td>\n",
       "      <td>@hannahajink_4</td>\n",
       "    </tr>\n",
       "    <tr>\n",
       "      <th>3</th>\n",
       "      <td>16315</td>\n",
       "      <td>@bryceandjuli</td>\n",
       "      <td>싫다</td>\n",
       "      <td>[감정, 마음, 위로]</td>\n",
       "      <td>https://brunch.co.kr/@bryceandjuli/88</td>\n",
       "      <td></td>\n",
       "      <td>1491055161000</td>\n",
       "      <td>88</td>\n",
       "      <td>@bryceandjuli_88</td>\n",
       "    </tr>\n",
       "    <tr>\n",
       "      <th>4</th>\n",
       "      <td>29363</td>\n",
       "      <td>@mijeongpark</td>\n",
       "      <td>Dubliner#7</td>\n",
       "      <td>[유럽여행, 더블린, 아일랜드]</td>\n",
       "      <td>https://brunch.co.kr/@mijeongpark/34</td>\n",
       "      <td>#7. 내 친구의 집은 어디인가</td>\n",
       "      <td>1523292942000</td>\n",
       "      <td>34</td>\n",
       "      <td>@mijeongpark_34</td>\n",
       "    </tr>\n",
       "  </tbody>\n",
       "</table>\n",
       "</div>"
      ],
      "text/plain": [
       "   magazine_id        user_id                      title       keyword_list  \\\n",
       "0         8982        @bookdb  사진으로 옮기기에도 아까운, 리치필드 국립공원     [여행, 호주, 국립공원]   \n",
       "1        12081     @kohwang56                  [시] 서러운 봄    [목련꽃, 아지랑이, 동행]   \n",
       "2            0   @hannahajink                     무엇을 위해                 []   \n",
       "3        16315  @bryceandjuli                         싫다       [감정, 마음, 위로]   \n",
       "4        29363   @mijeongpark                 Dubliner#7  [유럽여행, 더블린, 아일랜드]   \n",
       "\n",
       "                             display_url             sub_title         reg_ts  \\\n",
       "0       https://brunch.co.kr/@bookdb/782  세상 어디에도 없는 호주 Top 10  1474944427000   \n",
       "1     https://brunch.co.kr/@kohwang56/81                        1463092749000   \n",
       "2    https://brunch.co.kr/@hannahajink/4                무엇 때문에  1447997287000   \n",
       "3  https://brunch.co.kr/@bryceandjuli/88                        1491055161000   \n",
       "4   https://brunch.co.kr/@mijeongpark/34     #7. 내 친구의 집은 어디인가  1523292942000   \n",
       "\n",
       "   article_id                id  \n",
       "0         782       @bookdb_782  \n",
       "1          81     @kohwang56_81  \n",
       "2           4    @hannahajink_4  \n",
       "3          88  @bryceandjuli_88  \n",
       "4          34   @mijeongpark_34  "
      ]
     },
     "execution_count": 11,
     "metadata": {},
     "output_type": "execute_result"
    }
   ],
   "source": [
    "metadata.head()"
   ]
  },
  {
   "cell_type": "code",
   "execution_count": 12,
   "metadata": {},
   "outputs": [
    {
     "data": {
      "text/plain": [
       "28028"
      ]
     },
     "execution_count": 12,
     "metadata": {},
     "output_type": "execute_result"
    }
   ],
   "source": [
    "len(pd.Series.unique(metadata['magazine_id']))"
   ]
  },
  {
   "cell_type": "code",
   "execution_count": 13,
   "metadata": {},
   "outputs": [],
   "source": [
    "#  pd.read_json(directory + '/contents/data.6', lines=True)"
   ]
  },
  {
   "cell_type": "markdown",
   "metadata": {},
   "source": [
    "### c. Users.json"
   ]
  },
  {
   "cell_type": "code",
   "execution_count": 14,
   "metadata": {},
   "outputs": [],
   "source": [
    "users = pd.read_json(directory + '/users.json', lines=True)"
   ]
  },
  {
   "cell_type": "code",
   "execution_count": 15,
   "metadata": {},
   "outputs": [
    {
     "data": {
      "text/plain": [
       "(310758, 3)"
      ]
     },
     "execution_count": 15,
     "metadata": {},
     "output_type": "execute_result"
    }
   ],
   "source": [
    "users.shape"
   ]
  },
  {
   "cell_type": "code",
   "execution_count": 16,
   "metadata": {},
   "outputs": [
    {
     "data": {
      "text/html": [
       "<div>\n",
       "<style scoped>\n",
       "    .dataframe tbody tr th:only-of-type {\n",
       "        vertical-align: middle;\n",
       "    }\n",
       "\n",
       "    .dataframe tbody tr th {\n",
       "        vertical-align: top;\n",
       "    }\n",
       "\n",
       "    .dataframe thead th {\n",
       "        text-align: right;\n",
       "    }\n",
       "</style>\n",
       "<table border=\"1\" class=\"dataframe\">\n",
       "  <thead>\n",
       "    <tr style=\"text-align: right;\">\n",
       "      <th></th>\n",
       "      <th>keyword_list</th>\n",
       "      <th>following_list</th>\n",
       "      <th>id</th>\n",
       "    </tr>\n",
       "  </thead>\n",
       "  <tbody>\n",
       "    <tr>\n",
       "      <th>0</th>\n",
       "      <td>[]</td>\n",
       "      <td>[@perytail, @brunch]</td>\n",
       "      <td>#901985d8bc4c481805c4a4f911814c4a</td>\n",
       "    </tr>\n",
       "    <tr>\n",
       "      <th>1</th>\n",
       "      <td>[]</td>\n",
       "      <td>[@holidaymemories, @wadiz, @sciforus, @dailydu...</td>\n",
       "      <td>#1fd89e9dcfa64b45020d9eaca54e0eed</td>\n",
       "    </tr>\n",
       "    <tr>\n",
       "      <th>2</th>\n",
       "      <td>[]</td>\n",
       "      <td>[@commerceguy, @sunsutu, @kakao-it, @joohoonja...</td>\n",
       "      <td>#1d94baaea71a831e1f33e1c6bd126ed5</td>\n",
       "    </tr>\n",
       "    <tr>\n",
       "      <th>3</th>\n",
       "      <td>[]</td>\n",
       "      <td>[@amberjeon48, @forsy20, @nemotokki, @hawann, ...</td>\n",
       "      <td>#04641c01892b12dc018b1410e4928c0d</td>\n",
       "    </tr>\n",
       "    <tr>\n",
       "      <th>4</th>\n",
       "      <td>[]</td>\n",
       "      <td>[@dwcha7342, @iammento, @kakao-it, @dkam, @ant...</td>\n",
       "      <td>#65bcaff862aadff877e461f54187ab62</td>\n",
       "    </tr>\n",
       "  </tbody>\n",
       "</table>\n",
       "</div>"
      ],
      "text/plain": [
       "  keyword_list                                     following_list  \\\n",
       "0           []                               [@perytail, @brunch]   \n",
       "1           []  [@holidaymemories, @wadiz, @sciforus, @dailydu...   \n",
       "2           []  [@commerceguy, @sunsutu, @kakao-it, @joohoonja...   \n",
       "3           []  [@amberjeon48, @forsy20, @nemotokki, @hawann, ...   \n",
       "4           []  [@dwcha7342, @iammento, @kakao-it, @dkam, @ant...   \n",
       "\n",
       "                                  id  \n",
       "0  #901985d8bc4c481805c4a4f911814c4a  \n",
       "1  #1fd89e9dcfa64b45020d9eaca54e0eed  \n",
       "2  #1d94baaea71a831e1f33e1c6bd126ed5  \n",
       "3  #04641c01892b12dc018b1410e4928c0d  \n",
       "4  #65bcaff862aadff877e461f54187ab62  "
      ]
     },
     "execution_count": 16,
     "metadata": {},
     "output_type": "execute_result"
    }
   ],
   "source": [
    "users.head()"
   ]
  },
  {
   "cell_type": "markdown",
   "metadata": {},
   "source": [
    "### d. Read Files"
   ]
  },
  {
   "cell_type": "code",
   "execution_count": 17,
   "metadata": {},
   "outputs": [],
   "source": [
    "read_file_lst = glob.glob(directory+'read/*')"
   ]
  },
  {
   "cell_type": "code",
   "execution_count": 18,
   "metadata": {},
   "outputs": [],
   "source": [
    "exclude_file_lst = ['read.tar']"
   ]
  },
  {
   "cell_type": "code",
   "execution_count": 19,
   "metadata": {},
   "outputs": [],
   "source": [
    "read_df_lst = []\n",
    "for f in read_file_lst:\n",
    "    file_name = os.path.basename(f)\n",
    "    if file_name in exclude_file_lst:\n",
    "        print(file_name)\n",
    "    else:\n",
    "        df_temp = pd.read_csv(f, header=None, names=['raw'])\n",
    "        df_temp['dt'] = file_name[:8]\n",
    "        df_temp['hr'] = file_name[8:10]\n",
    "        df_temp['user_id'] = df_temp['raw'].str.split(' ').str[0]\n",
    "        df_temp['article_id'] = df_temp['raw'].str.split(' ').str[1:].str.join(' ').str.strip()\n",
    "        read_df_lst.append(df_temp)"
   ]
  },
  {
   "cell_type": "code",
   "execution_count": 20,
   "metadata": {},
   "outputs": [],
   "source": [
    "read = pd.concat(read_df_lst)"
   ]
  },
  {
   "cell_type": "code",
   "execution_count": 21,
   "metadata": {},
   "outputs": [
    {
     "data": {
      "text/plain": [
       "(3507097, 5)"
      ]
     },
     "execution_count": 21,
     "metadata": {},
     "output_type": "execute_result"
    }
   ],
   "source": [
    "read.shape"
   ]
  },
  {
   "cell_type": "code",
   "execution_count": 22,
   "metadata": {},
   "outputs": [
    {
     "data": {
      "text/html": [
       "<div>\n",
       "<style scoped>\n",
       "    .dataframe tbody tr th:only-of-type {\n",
       "        vertical-align: middle;\n",
       "    }\n",
       "\n",
       "    .dataframe tbody tr th {\n",
       "        vertical-align: top;\n",
       "    }\n",
       "\n",
       "    .dataframe thead th {\n",
       "        text-align: right;\n",
       "    }\n",
       "</style>\n",
       "<table border=\"1\" class=\"dataframe\">\n",
       "  <thead>\n",
       "    <tr style=\"text-align: right;\">\n",
       "      <th></th>\n",
       "      <th>raw</th>\n",
       "      <th>dt</th>\n",
       "      <th>hr</th>\n",
       "      <th>user_id</th>\n",
       "      <th>article_id</th>\n",
       "    </tr>\n",
       "  </thead>\n",
       "  <tbody>\n",
       "    <tr>\n",
       "      <th>0</th>\n",
       "      <td>#a055d0c3520e1c002531001928217887 @charlessay_...</td>\n",
       "      <td>20181121</td>\n",
       "      <td>14</td>\n",
       "      <td>#a055d0c3520e1c002531001928217887</td>\n",
       "      <td>@charlessay_30 @wal8am_27 @uglyduckmin_40 @ant...</td>\n",
       "    </tr>\n",
       "    <tr>\n",
       "      <th>1</th>\n",
       "      <td>#a9cba8bf098c149170315d4cd8d3082e @jinbread_88...</td>\n",
       "      <td>20181121</td>\n",
       "      <td>14</td>\n",
       "      <td>#a9cba8bf098c149170315d4cd8d3082e</td>\n",
       "      <td>@jinbread_88 @jinbread_87 @jinbread_89</td>\n",
       "    </tr>\n",
       "    <tr>\n",
       "      <th>2</th>\n",
       "      <td>#207c8cb590a843e247b9fe7fdd0e5281 @sangheeshyn...</td>\n",
       "      <td>20181121</td>\n",
       "      <td>14</td>\n",
       "      <td>#207c8cb590a843e247b9fe7fdd0e5281</td>\n",
       "      <td>@sangheeshyn_66</td>\n",
       "    </tr>\n",
       "    <tr>\n",
       "      <th>3</th>\n",
       "      <td>#d76887a5b30adbf793f742c6f67b57bd @tenbody_150...</td>\n",
       "      <td>20181121</td>\n",
       "      <td>14</td>\n",
       "      <td>#d76887a5b30adbf793f742c6f67b57bd</td>\n",
       "      <td>@tenbody_1506 @tenbody_1506</td>\n",
       "    </tr>\n",
       "    <tr>\n",
       "      <th>4</th>\n",
       "      <td>#b260d83247a4d9e3b22143c950f7f471 @maumdal_257...</td>\n",
       "      <td>20181121</td>\n",
       "      <td>14</td>\n",
       "      <td>#b260d83247a4d9e3b22143c950f7f471</td>\n",
       "      <td>@maumdal_257 @maumdal_257</td>\n",
       "    </tr>\n",
       "  </tbody>\n",
       "</table>\n",
       "</div>"
      ],
      "text/plain": [
       "                                                 raw        dt  hr  \\\n",
       "0  #a055d0c3520e1c002531001928217887 @charlessay_...  20181121  14   \n",
       "1  #a9cba8bf098c149170315d4cd8d3082e @jinbread_88...  20181121  14   \n",
       "2  #207c8cb590a843e247b9fe7fdd0e5281 @sangheeshyn...  20181121  14   \n",
       "3  #d76887a5b30adbf793f742c6f67b57bd @tenbody_150...  20181121  14   \n",
       "4  #b260d83247a4d9e3b22143c950f7f471 @maumdal_257...  20181121  14   \n",
       "\n",
       "                             user_id  \\\n",
       "0  #a055d0c3520e1c002531001928217887   \n",
       "1  #a9cba8bf098c149170315d4cd8d3082e   \n",
       "2  #207c8cb590a843e247b9fe7fdd0e5281   \n",
       "3  #d76887a5b30adbf793f742c6f67b57bd   \n",
       "4  #b260d83247a4d9e3b22143c950f7f471   \n",
       "\n",
       "                                          article_id  \n",
       "0  @charlessay_30 @wal8am_27 @uglyduckmin_40 @ant...  \n",
       "1             @jinbread_88 @jinbread_87 @jinbread_89  \n",
       "2                                    @sangheeshyn_66  \n",
       "3                        @tenbody_1506 @tenbody_1506  \n",
       "4                          @maumdal_257 @maumdal_257  "
      ]
     },
     "execution_count": 22,
     "metadata": {},
     "output_type": "execute_result"
    }
   ],
   "source": [
    "read.head()"
   ]
  },
  {
   "cell_type": "markdown",
   "metadata": {},
   "source": [
    "#### 탐색하기 좋은 데이터 포맷으로 변경"
   ]
  },
  {
   "cell_type": "code",
   "execution_count": 23,
   "metadata": {},
   "outputs": [],
   "source": [
    "def chainer(s):\n",
    "    return list(chain.from_iterable(s.str.split(' ')))"
   ]
  },
  {
   "cell_type": "code",
   "execution_count": 24,
   "metadata": {},
   "outputs": [],
   "source": [
    "read_cnt_by_user = read['article_id'].str.split(' ').map(len)"
   ]
  },
  {
   "cell_type": "code",
   "execution_count": 25,
   "metadata": {},
   "outputs": [],
   "source": [
    "read_raw = pd.DataFrame({'dt': np.repeat(read['dt'], read_cnt_by_user),\n",
    "                         'hr': np.repeat(read['hr'], read_cnt_by_user),\n",
    "                         'user_id': np.repeat(read['user_id'], read_cnt_by_user),\n",
    "                         'article_id': chainer(read['article_id'])})"
   ]
  },
  {
   "cell_type": "code",
   "execution_count": 26,
   "metadata": {},
   "outputs": [
    {
     "data": {
      "text/plain": [
       "(22110706, 4)"
      ]
     },
     "execution_count": 26,
     "metadata": {},
     "output_type": "execute_result"
    }
   ],
   "source": [
    "read_raw.shape"
   ]
  },
  {
   "cell_type": "code",
   "execution_count": 27,
   "metadata": {},
   "outputs": [
    {
     "data": {
      "text/html": [
       "<div>\n",
       "<style scoped>\n",
       "    .dataframe tbody tr th:only-of-type {\n",
       "        vertical-align: middle;\n",
       "    }\n",
       "\n",
       "    .dataframe tbody tr th {\n",
       "        vertical-align: top;\n",
       "    }\n",
       "\n",
       "    .dataframe thead th {\n",
       "        text-align: right;\n",
       "    }\n",
       "</style>\n",
       "<table border=\"1\" class=\"dataframe\">\n",
       "  <thead>\n",
       "    <tr style=\"text-align: right;\">\n",
       "      <th></th>\n",
       "      <th>dt</th>\n",
       "      <th>hr</th>\n",
       "      <th>user_id</th>\n",
       "      <th>article_id</th>\n",
       "    </tr>\n",
       "  </thead>\n",
       "  <tbody>\n",
       "    <tr>\n",
       "      <th>0</th>\n",
       "      <td>20181121</td>\n",
       "      <td>14</td>\n",
       "      <td>#a055d0c3520e1c002531001928217887</td>\n",
       "      <td>@charlessay_30</td>\n",
       "    </tr>\n",
       "    <tr>\n",
       "      <th>0</th>\n",
       "      <td>20181121</td>\n",
       "      <td>14</td>\n",
       "      <td>#a055d0c3520e1c002531001928217887</td>\n",
       "      <td>@wal8am_27</td>\n",
       "    </tr>\n",
       "    <tr>\n",
       "      <th>0</th>\n",
       "      <td>20181121</td>\n",
       "      <td>14</td>\n",
       "      <td>#a055d0c3520e1c002531001928217887</td>\n",
       "      <td>@uglyduckmin_40</td>\n",
       "    </tr>\n",
       "    <tr>\n",
       "      <th>0</th>\n",
       "      <td>20181121</td>\n",
       "      <td>14</td>\n",
       "      <td>#a055d0c3520e1c002531001928217887</td>\n",
       "      <td>@anti-essay_133</td>\n",
       "    </tr>\n",
       "    <tr>\n",
       "      <th>0</th>\n",
       "      <td>20181121</td>\n",
       "      <td>14</td>\n",
       "      <td>#a055d0c3520e1c002531001928217887</td>\n",
       "      <td>@roysday_125</td>\n",
       "    </tr>\n",
       "  </tbody>\n",
       "</table>\n",
       "</div>"
      ],
      "text/plain": [
       "         dt  hr                            user_id       article_id\n",
       "0  20181121  14  #a055d0c3520e1c002531001928217887   @charlessay_30\n",
       "0  20181121  14  #a055d0c3520e1c002531001928217887       @wal8am_27\n",
       "0  20181121  14  #a055d0c3520e1c002531001928217887  @uglyduckmin_40\n",
       "0  20181121  14  #a055d0c3520e1c002531001928217887  @anti-essay_133\n",
       "0  20181121  14  #a055d0c3520e1c002531001928217887     @roysday_125"
      ]
     },
     "execution_count": 27,
     "metadata": {},
     "output_type": "execute_result"
    }
   ],
   "source": [
    "read_raw.head()"
   ]
  },
  {
   "cell_type": "code",
   "execution_count": 28,
   "metadata": {},
   "outputs": [
    {
     "name": "stdout",
     "output_type": "stream",
     "text": [
      "전체 데이터 건수: (22110706, 4)\n",
      "중복 소비를 제외한 데이터 건수: (12597878, 2)\n",
      "Unique 독자 수: 306222\n",
      "소비된 Unique 글 수: 505841\n"
     ]
    }
   ],
   "source": [
    "print(\"전체 데이터 건수:\", read_raw.shape)\n",
    "print(\"중복 소비를 제외한 데이터 건수:\", read_raw[['user_id', 'article_id']].drop_duplicates().shape)\n",
    "print(\"Unique 독자 수:\", len(read_raw['user_id'].unique()))\n",
    "print(\"소비된 Unique 글 수:\", len(read_raw['article_id'].unique()))"
   ]
  },
  {
   "cell_type": "code",
   "execution_count": null,
   "metadata": {},
   "outputs": [],
   "source": []
  },
  {
   "cell_type": "code",
   "execution_count": null,
   "metadata": {},
   "outputs": [],
   "source": []
  },
  {
   "cell_type": "markdown",
   "metadata": {},
   "source": [
    "# 2. Prepocessing"
   ]
  },
  {
   "cell_type": "markdown",
   "metadata": {},
   "source": [
    "### a. metadata 전처리"
   ]
  },
  {
   "cell_type": "code",
   "execution_count": 92,
   "metadata": {},
   "outputs": [],
   "source": [
    "atc = metadata.copy()"
   ]
  },
  {
   "cell_type": "code",
   "execution_count": 93,
   "metadata": {},
   "outputs": [],
   "source": [
    "atc['reg_datetime'] = atc['reg_ts'].apply(lambda x : datetime.fromtimestamp(x/1000.0))\n",
    "atc.loc[atc['reg_datetime'] == atc['reg_datetime'].min(), 'reg_datetime'] = datetime(2090, 12, 31)\n",
    "atc['reg_dt'] = atc['reg_datetime'].dt.date\n",
    "atc['type'] = atc['magazine_id'].apply(lambda x : '개인' if x == 0.0 else '매거진')"
   ]
  },
  {
   "cell_type": "code",
   "execution_count": 94,
   "metadata": {},
   "outputs": [],
   "source": [
    "# 컬럼명 변경\n",
    "atc.columns = ['magazine_id', 'author_id',  'title', 'keyword_list', 'display_url', \n",
    "               'sub_title', 'reg_ts', 'id', 'article_id', 'reg_datetime', \n",
    "               'reg_dt', 'type']"
   ]
  },
  {
   "cell_type": "code",
   "execution_count": 95,
   "metadata": {
    "scrolled": true
   },
   "outputs": [
    {
     "data": {
      "text/html": [
       "<div>\n",
       "<style scoped>\n",
       "    .dataframe tbody tr th:only-of-type {\n",
       "        vertical-align: middle;\n",
       "    }\n",
       "\n",
       "    .dataframe tbody tr th {\n",
       "        vertical-align: top;\n",
       "    }\n",
       "\n",
       "    .dataframe thead th {\n",
       "        text-align: right;\n",
       "    }\n",
       "</style>\n",
       "<table border=\"1\" class=\"dataframe\">\n",
       "  <thead>\n",
       "    <tr style=\"text-align: right;\">\n",
       "      <th></th>\n",
       "      <th>magazine_id</th>\n",
       "      <th>author_id</th>\n",
       "      <th>title</th>\n",
       "      <th>keyword_list</th>\n",
       "      <th>display_url</th>\n",
       "      <th>sub_title</th>\n",
       "      <th>reg_ts</th>\n",
       "      <th>id</th>\n",
       "      <th>article_id</th>\n",
       "      <th>reg_datetime</th>\n",
       "      <th>reg_dt</th>\n",
       "      <th>type</th>\n",
       "    </tr>\n",
       "  </thead>\n",
       "  <tbody>\n",
       "    <tr>\n",
       "      <th>0</th>\n",
       "      <td>8982</td>\n",
       "      <td>@bookdb</td>\n",
       "      <td>사진으로 옮기기에도 아까운, 리치필드 국립공원</td>\n",
       "      <td>[여행, 호주, 국립공원]</td>\n",
       "      <td>https://brunch.co.kr/@bookdb/782</td>\n",
       "      <td>세상 어디에도 없는 호주 Top 10</td>\n",
       "      <td>1474944427000</td>\n",
       "      <td>782</td>\n",
       "      <td>@bookdb_782</td>\n",
       "      <td>2016-09-27 11:47:07</td>\n",
       "      <td>2016-09-27</td>\n",
       "      <td>매거진</td>\n",
       "    </tr>\n",
       "    <tr>\n",
       "      <th>1</th>\n",
       "      <td>12081</td>\n",
       "      <td>@kohwang56</td>\n",
       "      <td>[시] 서러운 봄</td>\n",
       "      <td>[목련꽃, 아지랑이, 동행]</td>\n",
       "      <td>https://brunch.co.kr/@kohwang56/81</td>\n",
       "      <td></td>\n",
       "      <td>1463092749000</td>\n",
       "      <td>81</td>\n",
       "      <td>@kohwang56_81</td>\n",
       "      <td>2016-05-13 07:39:09</td>\n",
       "      <td>2016-05-13</td>\n",
       "      <td>매거진</td>\n",
       "    </tr>\n",
       "    <tr>\n",
       "      <th>2</th>\n",
       "      <td>0</td>\n",
       "      <td>@hannahajink</td>\n",
       "      <td>무엇을 위해</td>\n",
       "      <td>[]</td>\n",
       "      <td>https://brunch.co.kr/@hannahajink/4</td>\n",
       "      <td>무엇 때문에</td>\n",
       "      <td>1447997287000</td>\n",
       "      <td>4</td>\n",
       "      <td>@hannahajink_4</td>\n",
       "      <td>2015-11-20 14:28:07</td>\n",
       "      <td>2015-11-20</td>\n",
       "      <td>개인</td>\n",
       "    </tr>\n",
       "    <tr>\n",
       "      <th>3</th>\n",
       "      <td>16315</td>\n",
       "      <td>@bryceandjuli</td>\n",
       "      <td>싫다</td>\n",
       "      <td>[감정, 마음, 위로]</td>\n",
       "      <td>https://brunch.co.kr/@bryceandjuli/88</td>\n",
       "      <td></td>\n",
       "      <td>1491055161000</td>\n",
       "      <td>88</td>\n",
       "      <td>@bryceandjuli_88</td>\n",
       "      <td>2017-04-01 22:59:21</td>\n",
       "      <td>2017-04-01</td>\n",
       "      <td>매거진</td>\n",
       "    </tr>\n",
       "    <tr>\n",
       "      <th>4</th>\n",
       "      <td>29363</td>\n",
       "      <td>@mijeongpark</td>\n",
       "      <td>Dubliner#7</td>\n",
       "      <td>[유럽여행, 더블린, 아일랜드]</td>\n",
       "      <td>https://brunch.co.kr/@mijeongpark/34</td>\n",
       "      <td>#7. 내 친구의 집은 어디인가</td>\n",
       "      <td>1523292942000</td>\n",
       "      <td>34</td>\n",
       "      <td>@mijeongpark_34</td>\n",
       "      <td>2018-04-10 01:55:42</td>\n",
       "      <td>2018-04-10</td>\n",
       "      <td>매거진</td>\n",
       "    </tr>\n",
       "  </tbody>\n",
       "</table>\n",
       "</div>"
      ],
      "text/plain": [
       "   magazine_id      author_id                      title       keyword_list  \\\n",
       "0         8982        @bookdb  사진으로 옮기기에도 아까운, 리치필드 국립공원     [여행, 호주, 국립공원]   \n",
       "1        12081     @kohwang56                  [시] 서러운 봄    [목련꽃, 아지랑이, 동행]   \n",
       "2            0   @hannahajink                     무엇을 위해                 []   \n",
       "3        16315  @bryceandjuli                         싫다       [감정, 마음, 위로]   \n",
       "4        29363   @mijeongpark                 Dubliner#7  [유럽여행, 더블린, 아일랜드]   \n",
       "\n",
       "                             display_url             sub_title         reg_ts  \\\n",
       "0       https://brunch.co.kr/@bookdb/782  세상 어디에도 없는 호주 Top 10  1474944427000   \n",
       "1     https://brunch.co.kr/@kohwang56/81                        1463092749000   \n",
       "2    https://brunch.co.kr/@hannahajink/4                무엇 때문에  1447997287000   \n",
       "3  https://brunch.co.kr/@bryceandjuli/88                        1491055161000   \n",
       "4   https://brunch.co.kr/@mijeongpark/34     #7. 내 친구의 집은 어디인가  1523292942000   \n",
       "\n",
       "    id        article_id        reg_datetime      reg_dt type  \n",
       "0  782       @bookdb_782 2016-09-27 11:47:07  2016-09-27  매거진  \n",
       "1   81     @kohwang56_81 2016-05-13 07:39:09  2016-05-13  매거진  \n",
       "2    4    @hannahajink_4 2015-11-20 14:28:07  2015-11-20   개인  \n",
       "3   88  @bryceandjuli_88 2017-04-01 22:59:21  2017-04-01  매거진  \n",
       "4   34   @mijeongpark_34 2018-04-10 01:55:42  2018-04-10  매거진  "
      ]
     },
     "execution_count": 95,
     "metadata": {},
     "output_type": "execute_result"
    }
   ],
   "source": [
    "atc.head()"
   ]
  },
  {
   "cell_type": "code",
   "execution_count": 33,
   "metadata": {},
   "outputs": [],
   "source": [
    "atc_read_cnt = read_raw[read_raw.article_id != ''].groupby('article_id')['user_id'].count()"
   ]
  },
  {
   "cell_type": "code",
   "execution_count": 34,
   "metadata": {},
   "outputs": [],
   "source": [
    "atc_read_cnt = atc_read_cnt.reset_index()\n",
    "atc_read_cnt.columns = ['article_id', 'read_cnt']"
   ]
  },
  {
   "cell_type": "code",
   "execution_count": 35,
   "metadata": {},
   "outputs": [],
   "source": [
    "atc_read_cnt.dropna(subset=['article_id'], inplace = True)\n",
    "# metadata를 찾을 수 없는 소비 로그 제외\n",
    "atc_read_cnt_nn = atc_read_cnt[atc_read_cnt['article_id'].notnull()]"
   ]
  },
  {
   "cell_type": "code",
   "execution_count": 36,
   "metadata": {},
   "outputs": [],
   "source": [
    "# 소비수 기준 분류값\n",
    "def get_class(x):\n",
    "    if x >= 142:\n",
    "        result = '5%'\n",
    "    elif x >= 72:\n",
    "        result = '10%'\n",
    "    elif x >= 25:\n",
    "        result = '25%'\n",
    "    elif x >= 8:\n",
    "        result = '50%'\n",
    "    elif x >= 3:\n",
    "        result = '75%'\n",
    "    else:\n",
    "        result = '100%'\n",
    "    return result"
   ]
  },
  {
   "cell_type": "code",
   "execution_count": 37,
   "metadata": {},
   "outputs": [],
   "source": [
    "atc_read_cnt_nn['class'] = atc_read_cnt_nn['read_cnt'].map(get_class)\n"
   ]
  },
  {
   "cell_type": "markdown",
   "metadata": {},
   "source": [
    "### b.  read 데이터 전처리"
   ]
  },
  {
   "cell_type": "code",
   "execution_count": 38,
   "metadata": {},
   "outputs": [],
   "source": [
    "off_data = pd.merge(read_raw, atc, how='inner', left_on='article_id', right_on='article_id')"
   ]
  },
  {
   "cell_type": "code",
   "execution_count": 39,
   "metadata": {},
   "outputs": [
    {
     "data": {
      "text/plain": [
       "(20905040, 15)"
      ]
     },
     "execution_count": 39,
     "metadata": {},
     "output_type": "execute_result"
    }
   ],
   "source": [
    "off_data.shape"
   ]
  },
  {
   "cell_type": "code",
   "execution_count": 40,
   "metadata": {
    "scrolled": false
   },
   "outputs": [
    {
     "data": {
      "text/plain": [
       "Index(['dt', 'hr', 'user_id', 'article_id', 'magazine_id', 'author_id',\n",
       "       'title', 'keyword_list', 'display_url', 'sub_title', 'reg_ts', 'id',\n",
       "       'reg_datetime', 'reg_dt', 'type'],\n",
       "      dtype='object')"
      ]
     },
     "execution_count": 40,
     "metadata": {},
     "output_type": "execute_result"
    }
   ],
   "source": [
    "off_data.columns"
   ]
  },
  {
   "cell_type": "code",
   "execution_count": 41,
   "metadata": {},
   "outputs": [],
   "source": [
    "off_data.columns = ['read_dt', 'hr', 'user_id', 'article_id', 'magazine_id', 'author_id',\n",
    "       'title', 'keyword_list', 'display_url', 'sub_title', 'reg_ts', 'id',\n",
    "       'reg_datetime', 'reg_dt', 'type']"
   ]
  },
  {
   "cell_type": "code",
   "execution_count": 42,
   "metadata": {},
   "outputs": [],
   "source": [
    "off_data = off_data[['read_dt', 'user_id', 'article_id', 'title', 'sub_title', 'author_id', 'reg_dt', 'type', 'display_url', 'keyword_list', 'magazine_id']]"
   ]
  },
  {
   "cell_type": "code",
   "execution_count": 43,
   "metadata": {
    "scrolled": true
   },
   "outputs": [],
   "source": [
    "off_data['read_dt'] = pd.to_datetime(off_data['read_dt'], format='%Y%m%d')\n",
    "off_data['reg_dt'] = pd.to_datetime(off_data['reg_dt'], format='%Y-%m-%d')\n",
    "off_data['off_day'] = (off_data['read_dt'] - off_data['reg_dt']).dt.days"
   ]
  },
  {
   "cell_type": "markdown",
   "metadata": {},
   "source": [
    "일단 기본 작업은 off_data로 해보기"
   ]
  },
  {
   "cell_type": "code",
   "execution_count": 44,
   "metadata": {},
   "outputs": [],
   "source": [
    "# meatadata와 join\n",
    "off_data = pd.merge(off_data, atc_read_cnt_nn[['article_id', 'read_cnt', 'class']], \n",
    "                    how='left', left_on='article_id', right_on='article_id')\n"
   ]
  },
  {
   "cell_type": "code",
   "execution_count": 45,
   "metadata": {},
   "outputs": [
    {
     "data": {
      "text/plain": [
       "(20905040, 14)"
      ]
     },
     "execution_count": 45,
     "metadata": {},
     "output_type": "execute_result"
    }
   ],
   "source": [
    "off_data.shape"
   ]
  },
  {
   "cell_type": "code",
   "execution_count": 46,
   "metadata": {
    "scrolled": true
   },
   "outputs": [
    {
     "data": {
      "text/html": [
       "<div>\n",
       "<style scoped>\n",
       "    .dataframe tbody tr th:only-of-type {\n",
       "        vertical-align: middle;\n",
       "    }\n",
       "\n",
       "    .dataframe tbody tr th {\n",
       "        vertical-align: top;\n",
       "    }\n",
       "\n",
       "    .dataframe thead th {\n",
       "        text-align: right;\n",
       "    }\n",
       "</style>\n",
       "<table border=\"1\" class=\"dataframe\">\n",
       "  <thead>\n",
       "    <tr style=\"text-align: right;\">\n",
       "      <th></th>\n",
       "      <th>read_dt</th>\n",
       "      <th>user_id</th>\n",
       "      <th>article_id</th>\n",
       "      <th>title</th>\n",
       "      <th>sub_title</th>\n",
       "      <th>author_id</th>\n",
       "      <th>reg_dt</th>\n",
       "      <th>type</th>\n",
       "      <th>display_url</th>\n",
       "      <th>keyword_list</th>\n",
       "      <th>magazine_id</th>\n",
       "      <th>off_day</th>\n",
       "      <th>read_cnt</th>\n",
       "      <th>class</th>\n",
       "    </tr>\n",
       "  </thead>\n",
       "  <tbody>\n",
       "    <tr>\n",
       "      <th>0</th>\n",
       "      <td>2018-11-21</td>\n",
       "      <td>#a055d0c3520e1c002531001928217887</td>\n",
       "      <td>@charlessay_30</td>\n",
       "      <td>프랑스 인큐베이팅 프로그램 킥오프(2)</td>\n",
       "      <td>자신의 비전을 이루기 위해 여행을 떠나는 길동무들</td>\n",
       "      <td>@charlessay</td>\n",
       "      <td>2018-11-18</td>\n",
       "      <td>매거진</td>\n",
       "      <td>https://brunch.co.kr/@charlessay/30</td>\n",
       "      <td>[IT, 스타트업]</td>\n",
       "      <td>37242</td>\n",
       "      <td>3</td>\n",
       "      <td>31</td>\n",
       "      <td>25%</td>\n",
       "    </tr>\n",
       "    <tr>\n",
       "      <th>1</th>\n",
       "      <td>2018-11-18</td>\n",
       "      <td>#585b5346c56d6d0ed6341afe382e03b7</td>\n",
       "      <td>@charlessay_30</td>\n",
       "      <td>프랑스 인큐베이팅 프로그램 킥오프(2)</td>\n",
       "      <td>자신의 비전을 이루기 위해 여행을 떠나는 길동무들</td>\n",
       "      <td>@charlessay</td>\n",
       "      <td>2018-11-18</td>\n",
       "      <td>매거진</td>\n",
       "      <td>https://brunch.co.kr/@charlessay/30</td>\n",
       "      <td>[IT, 스타트업]</td>\n",
       "      <td>37242</td>\n",
       "      <td>0</td>\n",
       "      <td>31</td>\n",
       "      <td>25%</td>\n",
       "    </tr>\n",
       "    <tr>\n",
       "      <th>2</th>\n",
       "      <td>2018-11-18</td>\n",
       "      <td>#ad179b8f764c4c56f048ba337daee781</td>\n",
       "      <td>@charlessay_30</td>\n",
       "      <td>프랑스 인큐베이팅 프로그램 킥오프(2)</td>\n",
       "      <td>자신의 비전을 이루기 위해 여행을 떠나는 길동무들</td>\n",
       "      <td>@charlessay</td>\n",
       "      <td>2018-11-18</td>\n",
       "      <td>매거진</td>\n",
       "      <td>https://brunch.co.kr/@charlessay/30</td>\n",
       "      <td>[IT, 스타트업]</td>\n",
       "      <td>37242</td>\n",
       "      <td>0</td>\n",
       "      <td>31</td>\n",
       "      <td>25%</td>\n",
       "    </tr>\n",
       "    <tr>\n",
       "      <th>3</th>\n",
       "      <td>2018-11-19</td>\n",
       "      <td>#3cb3edc483bc5d9bd95b677b97a3521c</td>\n",
       "      <td>@charlessay_30</td>\n",
       "      <td>프랑스 인큐베이팅 프로그램 킥오프(2)</td>\n",
       "      <td>자신의 비전을 이루기 위해 여행을 떠나는 길동무들</td>\n",
       "      <td>@charlessay</td>\n",
       "      <td>2018-11-18</td>\n",
       "      <td>매거진</td>\n",
       "      <td>https://brunch.co.kr/@charlessay/30</td>\n",
       "      <td>[IT, 스타트업]</td>\n",
       "      <td>37242</td>\n",
       "      <td>1</td>\n",
       "      <td>31</td>\n",
       "      <td>25%</td>\n",
       "    </tr>\n",
       "    <tr>\n",
       "      <th>4</th>\n",
       "      <td>2018-11-22</td>\n",
       "      <td>#e714f32a816fd9c8e553cd7a7573b71c</td>\n",
       "      <td>@charlessay_30</td>\n",
       "      <td>프랑스 인큐베이팅 프로그램 킥오프(2)</td>\n",
       "      <td>자신의 비전을 이루기 위해 여행을 떠나는 길동무들</td>\n",
       "      <td>@charlessay</td>\n",
       "      <td>2018-11-18</td>\n",
       "      <td>매거진</td>\n",
       "      <td>https://brunch.co.kr/@charlessay/30</td>\n",
       "      <td>[IT, 스타트업]</td>\n",
       "      <td>37242</td>\n",
       "      <td>4</td>\n",
       "      <td>31</td>\n",
       "      <td>25%</td>\n",
       "    </tr>\n",
       "  </tbody>\n",
       "</table>\n",
       "</div>"
      ],
      "text/plain": [
       "     read_dt                            user_id      article_id  \\\n",
       "0 2018-11-21  #a055d0c3520e1c002531001928217887  @charlessay_30   \n",
       "1 2018-11-18  #585b5346c56d6d0ed6341afe382e03b7  @charlessay_30   \n",
       "2 2018-11-18  #ad179b8f764c4c56f048ba337daee781  @charlessay_30   \n",
       "3 2018-11-19  #3cb3edc483bc5d9bd95b677b97a3521c  @charlessay_30   \n",
       "4 2018-11-22  #e714f32a816fd9c8e553cd7a7573b71c  @charlessay_30   \n",
       "\n",
       "                   title                    sub_title    author_id     reg_dt  \\\n",
       "0  프랑스 인큐베이팅 프로그램 킥오프(2)  자신의 비전을 이루기 위해 여행을 떠나는 길동무들  @charlessay 2018-11-18   \n",
       "1  프랑스 인큐베이팅 프로그램 킥오프(2)  자신의 비전을 이루기 위해 여행을 떠나는 길동무들  @charlessay 2018-11-18   \n",
       "2  프랑스 인큐베이팅 프로그램 킥오프(2)  자신의 비전을 이루기 위해 여행을 떠나는 길동무들  @charlessay 2018-11-18   \n",
       "3  프랑스 인큐베이팅 프로그램 킥오프(2)  자신의 비전을 이루기 위해 여행을 떠나는 길동무들  @charlessay 2018-11-18   \n",
       "4  프랑스 인큐베이팅 프로그램 킥오프(2)  자신의 비전을 이루기 위해 여행을 떠나는 길동무들  @charlessay 2018-11-18   \n",
       "\n",
       "  type                          display_url keyword_list  magazine_id  \\\n",
       "0  매거진  https://brunch.co.kr/@charlessay/30   [IT, 스타트업]        37242   \n",
       "1  매거진  https://brunch.co.kr/@charlessay/30   [IT, 스타트업]        37242   \n",
       "2  매거진  https://brunch.co.kr/@charlessay/30   [IT, 스타트업]        37242   \n",
       "3  매거진  https://brunch.co.kr/@charlessay/30   [IT, 스타트업]        37242   \n",
       "4  매거진  https://brunch.co.kr/@charlessay/30   [IT, 스타트업]        37242   \n",
       "\n",
       "   off_day  read_cnt class  \n",
       "0        3        31   25%  \n",
       "1        0        31   25%  \n",
       "2        0        31   25%  \n",
       "3        1        31   25%  \n",
       "4        4        31   25%  "
      ]
     },
     "execution_count": 46,
     "metadata": {},
     "output_type": "execute_result"
    }
   ],
   "source": [
    "off_data.head()"
   ]
  },
  {
   "cell_type": "code",
   "execution_count": 47,
   "metadata": {},
   "outputs": [],
   "source": [
    "# 유져별 방문일수, 글 소비수\n",
    "grp_by_user = off_data.groupby('user_id').agg({'read_dt':['nunique', 'count']})\n",
    "grp_by_user = grp_by_user.reset_index()\n",
    "grp_by_user.columns = ['user_id', 'visit_day_cnt', 'read_cnt']"
   ]
  },
  {
   "cell_type": "code",
   "execution_count": 48,
   "metadata": {
    "scrolled": false
   },
   "outputs": [
    {
     "data": {
      "text/plain": [
       "count    303047.000000\n",
       "mean          7.242748\n",
       "std          13.363423\n",
       "min           1.000000\n",
       "25%           1.000000\n",
       "50%           3.000000\n",
       "75%           7.000000\n",
       "max         151.000000\n",
       "Name: visit_day_cnt, dtype: float64"
      ]
     },
     "execution_count": 48,
     "metadata": {},
     "output_type": "execute_result"
    }
   ],
   "source": [
    "grp_by_user['visit_day_cnt'].describe()"
   ]
  },
  {
   "cell_type": "markdown",
   "metadata": {},
   "source": [
    "75% 의 유저가 7회 이하 방문함"
   ]
  },
  {
   "cell_type": "code",
   "execution_count": 49,
   "metadata": {},
   "outputs": [
    {
     "data": {
      "text/plain": [
       "Text(0.5, 0, '방문일수')"
      ]
     },
     "execution_count": 49,
     "metadata": {},
     "output_type": "execute_result"
    },
    {
     "data": {
      "image/png": "[encoded data removed]",
      "text/plain": [
       "<Figure size 1440x720 with 1 Axes>"
      ]
     },
     "metadata": {
      "needs_background": "light"
     },
     "output_type": "display_data"
    }
   ],
   "source": [
    "sns.distplot(grp_by_user[\"visit_day_cnt\"], color='#49beb7')\n",
    "plt.title('유저별 방문일수')\n",
    "plt.xlabel('방문일수')"
   ]
  },
  {
   "cell_type": "code",
   "execution_count": 50,
   "metadata": {},
   "outputs": [],
   "source": [
    "low_visit_user = grp_by_user.loc[grp_by_user['visit_day_cnt'] <=7, 'user_id']"
   ]
  },
  {
   "cell_type": "code",
   "execution_count": 51,
   "metadata": {},
   "outputs": [],
   "source": [
    "upp_visit_user = grp_by_user.loc[grp_by_user['visit_day_cnt'] >=75, 'user_id']"
   ]
  },
  {
   "cell_type": "code",
   "execution_count": 52,
   "metadata": {},
   "outputs": [
    {
     "data": {
      "text/plain": [
       "((230315,), (2738,))"
      ]
     },
     "execution_count": 52,
     "metadata": {},
     "output_type": "execute_result"
    }
   ],
   "source": [
    "low_visit_user.shape, upp_visit_user.shape"
   ]
  },
  {
   "cell_type": "code",
   "execution_count": 53,
   "metadata": {},
   "outputs": [],
   "source": [
    "off_data_l = off_data[off_data.user_id.isin(low_visit_user)]\n",
    "off_data_u = off_data[off_data.user_id.isin(upp_visit_user)]"
   ]
  },
  {
   "cell_type": "code",
   "execution_count": 54,
   "metadata": {},
   "outputs": [
    {
     "data": {
      "text/plain": [
       "((20905040, 14), (3384484, 14), (5002114, 14))"
      ]
     },
     "execution_count": 54,
     "metadata": {},
     "output_type": "execute_result"
    }
   ],
   "source": [
    "off_data.shape, off_data_l.shape, off_data_u.shape"
   ]
  },
  {
   "cell_type": "markdown",
   "metadata": {},
   "source": [
    "### Tell the user is active (latest visit)"
   ]
  },
  {
   "cell_type": "markdown",
   "metadata": {},
   "source": [
    "18년 10월 - 19년 3월까지 6개월의 read 기록. 몇개월 이상 방문하지 않아야 inactive로 볼 것인가?"
   ]
  },
  {
   "cell_type": "markdown",
   "metadata": {},
   "source": [
    "아니다 좀 애매한듯. 6개월"
   ]
  },
  {
   "cell_type": "markdown",
   "metadata": {},
   "source": [
    "### Most common keywords"
   ]
  },
  {
   "cell_type": "code",
   "execution_count": 55,
   "metadata": {},
   "outputs": [],
   "source": [
    "keywords_cnt = pd.Series([item for sublist in atc.keyword_list for item in sublist])"
   ]
  },
  {
   "cell_type": "code",
   "execution_count": 106,
   "metadata": {},
   "outputs": [
    {
     "data": {
      "text/plain": [
       "(86037,)"
      ]
     },
     "execution_count": 106,
     "metadata": {},
     "output_type": "execute_result"
    }
   ],
   "source": [
    "keywords_cnt.value_counts().shape  # 86037개"
   ]
  },
  {
   "cell_type": "code",
   "execution_count": 56,
   "metadata": {},
   "outputs": [
    {
     "data": {
      "text/plain": [
       "여행       33887\n",
       "영화       27058\n",
       "사랑       25177\n",
       "에세이      17629\n",
       "그림일기     15806\n",
       "생각       14254\n",
       "공감에세이    13109\n",
       "일상       11175\n",
       "글쓰기      10086\n",
       "감성에세이    10021\n",
       "인생        8929\n",
       "행복        8472\n",
       "연애        7819\n",
       "소설        7734\n",
       "드로잉       7721\n",
       "dtype: int64"
      ]
     },
     "execution_count": 56,
     "metadata": {},
     "output_type": "execute_result"
    }
   ],
   "source": [
    "keywords_cnt.value_counts().head(15)"
   ]
  },
  {
   "cell_type": "markdown",
   "metadata": {},
   "source": [
    "브런치 특징 딱 나오네"
   ]
  },
  {
   "cell_type": "markdown",
   "metadata": {},
   "source": [
    "### Similarities between articles (based on keywords)"
   ]
  },
  {
   "cell_type": "markdown",
   "metadata": {},
   "source": [
    "jaccard similarity (since we do not care duplicated keywords. if not, cosine similarity would be preferred)"
   ]
  },
  {
   "cell_type": "code",
   "execution_count": 57,
   "metadata": {},
   "outputs": [],
   "source": [
    "def get_jaccard_sim(list1, list2): \n",
    "    c = set(list1).intersection(list2)\n",
    "    return float(len(c)) / (len(list1) + len(list2) - len(c))"
   ]
  },
  {
   "cell_type": "code",
   "execution_count": 58,
   "metadata": {},
   "outputs": [],
   "source": [
    "from collections import Counter\n",
    "from sklearn.feature_extraction.text import CountVectorizer\n",
    "from sklearn.metrics.pairwise import cosine_similarity\n",
    "def get_cosine_sim(*strs): \n",
    "    vectors = [t for t in get_vectors(*strs)]\n",
    "    return cosine_similarity(vectors)\n",
    "    \n",
    "def get_vectors(*strs):\n",
    "    text = [t for t in strs]\n",
    "    vectorizer = CountVectorizer(text)\n",
    "    vectorizer.fit(text)\n",
    "    return vectorizer.transform(text).toarray()"
   ]
  },
  {
   "cell_type": "markdown",
   "metadata": {},
   "source": [
    "### Clusters based on keywords"
   ]
  },
  {
   "cell_type": "markdown",
   "metadata": {},
   "source": [
    "https://www.kaggle.com/jbencina/clustering-documents-with-tfidf-and-kmeans"
   ]
  },
  {
   "cell_type": "code",
   "execution_count": 59,
   "metadata": {},
   "outputs": [],
   "source": [
    "import numpy as np\n",
    "import pandas as pd\n",
    "import matplotlib.pyplot as plt\n",
    "import matplotlib.cm as cm\n",
    "\n",
    "from sklearn.cluster import MiniBatchKMeans\n",
    "from sklearn.feature_extraction.text import CountVectorizer\n",
    "from sklearn.feature_extraction.text import TfidfVectorizer\n",
    "from sklearn.decomposition import PCA\n",
    "from sklearn.manifold import TSNE"
   ]
  },
  {
   "cell_type": "code",
   "execution_count": 97,
   "metadata": {},
   "outputs": [],
   "source": [
    "atc['keyword_list']=atc['keyword_list'].apply(lambda x: \" \".join(x) )"
   ]
  },
  {
   "cell_type": "code",
   "execution_count": 98,
   "metadata": {},
   "outputs": [],
   "source": [
    "tfidf = TfidfVectorizer(\n",
    "    min_df = 5,\n",
    "    max_df = 0.95,\n",
    "    max_features = 8000\n",
    ")\n",
    "tfidf.fit(atc.keyword_list)\n",
    "text = tfidf.transform(atc.keyword_list)"
   ]
  },
  {
   "cell_type": "code",
   "execution_count": 99,
   "metadata": {},
   "outputs": [],
   "source": [
    "def find_optimal_clusters(data, max_k):\n",
    "    iters = range(10, max_k+1, 10)\n",
    "    \n",
    "    sse = []\n",
    "    for k in iters:\n",
    "        sse.append(MiniBatchKMeans(n_clusters=k, init_size=1024, batch_size=2048, random_state=20).fit(data).inertia_)\n",
    "        print('Fit {} clusters'.format(k))\n",
    "        \n",
    "    f, ax = plt.subplots(1, 1)\n",
    "    ax.plot(iters, sse, marker='o')\n",
    "    ax.set_xlabel('Cluster Centers')\n",
    "    ax.set_xticks(iters)\n",
    "    ax.set_xticklabels(iters)\n",
    "    ax.set_ylabel('SSE')\n",
    "    ax.set_title('SSE by Cluster Center Plot')\n"
   ]
  },
  {
   "cell_type": "code",
   "execution_count": 100,
   "metadata": {
    "scrolled": false
   },
   "outputs": [
    {
     "name": "stdout",
     "output_type": "stream",
     "text": [
      "Fit 10 clusters\n",
      "Fit 20 clusters\n",
      "Fit 30 clusters\n",
      "Fit 40 clusters\n",
      "Fit 50 clusters\n",
      "Fit 60 clusters\n",
      "Fit 70 clusters\n",
      "Fit 80 clusters\n",
      "Fit 90 clusters\n",
      "Fit 100 clusters\n",
      "Fit 110 clusters\n",
      "Fit 120 clusters\n",
      "Fit 130 clusters\n",
      "Fit 140 clusters\n",
      "Fit 150 clusters\n",
      "Fit 160 clusters\n",
      "Fit 170 clusters\n",
      "Fit 180 clusters\n",
      "Fit 190 clusters\n",
      "Fit 200 clusters\n",
      "Fit 210 clusters\n",
      "Fit 220 clusters\n",
      "Fit 230 clusters\n",
      "Fit 240 clusters\n",
      "Fit 250 clusters\n",
      "Fit 260 clusters\n",
      "Fit 270 clusters\n",
      "Fit 280 clusters\n",
      "Fit 290 clusters\n",
      "Fit 300 clusters\n"
     ]
    },
    {
     "data": {
      "image/png": "[encoded data removed]",
      "text/plain": [
       "<Figure size 1440x720 with 1 Axes>"
      ]
     },
     "metadata": {
      "needs_background": "light"
     },
     "output_type": "display_data"
    }
   ],
   "source": [
    "    \n",
    "find_optimal_clusters(text, 300)\n"
   ]
  },
  {
   "cell_type": "code",
   "execution_count": 101,
   "metadata": {},
   "outputs": [],
   "source": [
    "clusters = MiniBatchKMeans(n_clusters=300, init_size=1024, batch_size=2048, random_state=20).fit_predict(text)"
   ]
  },
  {
   "cell_type": "code",
   "execution_count": 102,
   "metadata": {},
   "outputs": [
    {
     "name": "stderr",
     "output_type": "stream",
     "text": [
      "/Users/seungmi/anaconda3/lib/python3.7/site-packages/matplotlib/backends/backend_agg.py:211: RuntimeWarning: Glyph 8722 missing from current font.\n",
      "  font.set_text(s, 0.0, flags=flags)\n",
      "/Users/seungmi/anaconda3/lib/python3.7/site-packages/matplotlib/backends/backend_agg.py:180: RuntimeWarning: Glyph 8722 missing from current font.\n",
      "  font.set_text(s, 0, flags=flags)\n"
     ]
    },
    {
     "data": {
      "image/png": "[encoded data removed]",
      "text/plain": [
       "<Figure size 1008x432 with 2 Axes>"
      ]
     },
     "metadata": {
      "needs_background": "light"
     },
     "output_type": "display_data"
    }
   ],
   "source": [
    "def plot_tsne_pca(data, labels):\n",
    "    max_label = max(labels)\n",
    "    max_items = np.random.choice(range(data.shape[0]), size=3000, replace=False)\n",
    "    \n",
    "    pca = PCA(n_components=2).fit_transform(data[max_items,:].todense())\n",
    "    tsne = TSNE().fit_transform(PCA(n_components=50).fit_transform(data[max_items,:].todense()))\n",
    "    \n",
    "    \n",
    "    idx = np.random.choice(range(pca.shape[0]), size=300, replace=False)\n",
    "    label_subset = labels[max_items]\n",
    "    label_subset = [cm.hsv(i/max_label) for i in label_subset[idx]]\n",
    "    \n",
    "    f, ax = plt.subplots(1, 2, figsize=(14, 6))\n",
    "    \n",
    "    ax[0].scatter(pca[idx, 0], pca[idx, 1], c=label_subset)\n",
    "    ax[0].set_title('PCA Cluster Plot')\n",
    "    \n",
    "    ax[1].scatter(tsne[idx, 0], tsne[idx, 1], c=label_subset)\n",
    "    ax[1].set_title('TSNE Cluster Plot')\n",
    "    \n",
    "plot_tsne_pca(text, clusters)"
   ]
  },
  {
   "cell_type": "code",
   "execution_count": 103,
   "metadata": {
    "scrolled": false
   },
   "outputs": [
    {
     "name": "stdout",
     "output_type": "stream",
     "text": [
      "\n",
      "Cluster 0\n",
      "가족,스릴러,마블,한국영화,sf,애니메이션,영화추천,영화후기,브런치무비패스,영화리뷰\n",
      "\n",
      "Cluster 10\n",
      "고민,회사생활,창업,백수,직장생활,직장,이직,직장인,회사,퇴사\n",
      "\n",
      "Cluster 20\n",
      "아이,부모,학습법,공부법,학원,독서,학교,대학,교육,공부\n",
      "\n",
      "Cluster 30\n",
      "뉴욕,해외여행,사진에세이,기록,감성에세이,일상,카메라,에세이,여행,사진\n",
      "\n",
      "Cluster 40\n",
      "당신,사람,엄마,소설,감성,결혼,마음,에세이,감성에세이,사랑\n",
      "\n",
      "Cluster 50\n",
      "방치,방송국,방식,방어,방송작가,힙합,겨울,바람,슬픔,세상\n",
      "\n",
      "Cluster 60\n",
      "대통령,한국어,투표,민주주의,선거,우리말,우리,아파트,국어,정치\n",
      "\n",
      "Cluster 70\n",
      "서비스,고객,브랜딩,포토에세이,영업,고통,사진에세이,경찰,노동,가죽공예\n",
      "\n",
      "Cluster 80\n",
      "방송국,방송,방사능,방비엥,방콕여행,가을방학,아울렛,감성,온천,독일여행\n",
      "\n",
      "Cluster 90\n",
      "신문,힙합,상황,의지,도피,행동,핑계,이해,시간,변명\n",
      "\n",
      "Cluster 100\n",
      "수능,소리,카메라,러시아,모바일,팟캐스트,북리뷰,취미,대학,서울\n",
      "\n",
      "Cluster 110\n",
      "방송국,실망,단어,생각,싸움,이해,본질,가치관,차이,사랑\n",
      "\n",
      "Cluster 120\n",
      "빈집,문화예술,젠트리피케이션,문화공간,재생,재개발,서울시,도시재생사업,도시,도시재생\n",
      "\n",
      "Cluster 130\n",
      "고양이사진,입양,유기견,집사,반려묘,동물,반려견,강아지,고양이,반려동물\n",
      "\n",
      "Cluster 140\n",
      "궁합,친구,연애,은하수,신화,우주,별자리운세,천문학,밤하늘,별자리\n",
      "\n",
      "Cluster 150\n",
      "화산,아프리카,트래블라인싱가포르,다이빙,인도네시아,포토에세이,감성에세이,사진에세이,사진,세계여행\n",
      "\n",
      "Cluster 160\n",
      "감성,만화,감성에세이,사랑,육아,브런치북,웹툰,여행,일러스트,그림\n",
      "\n",
      "Cluster 170\n",
      "소통,미래,육아,일상기록,미디어교육,코딩교육,일상,산업혁명,어린이,교육\n",
      "\n",
      "Cluster 180\n",
      "베트남,프로젝트,서귀포,발리,운영,세계여행,치앙마이,쉐어하우스,커뮤니티,디지털노마드\n",
      "\n",
      "Cluster 190\n",
      "캠페인,커리어,디자인,마케팅전략,마케팅,통합,콘텐츠,공부,광고,브랜딩\n",
      "\n",
      "Cluster 200\n",
      "철학,어른,북리뷰,인문학,놀이,교육,아빠,부모,서평,아이\n",
      "\n",
      "Cluster 210\n",
      "인생,새해,감성에세이,그림일기,왕비재테크,별자리,타로,사주,별자리운세,운세\n",
      "\n",
      "Cluster 220\n",
      "작문,사람,시인,마음,사랑,습관,독서,손글씨,글쓰기,필사\n",
      "\n",
      "Cluster 230\n",
      "인플루언서,컨퍼런스,콘텐츠,모바일,분석,구글애널리틱스,ux,크리에이티브,데이터,마케팅\n",
      "\n",
      "Cluster 240\n",
      "손그림,공감,일상,드로잉,감성그림,에세이,사랑,그림일기,일러스트,감성\n",
      "\n",
      "Cluster 250\n",
      "행복,영화추천,셰이프오브워터,죽음,시인,그리스,기억,캐롤,영화,사랑\n",
      "\n",
      "Cluster 260\n",
      "친구,세월호참사,감정,기록,이별,추모,시간,스트레스,세월호,기억\n",
      "\n",
      "Cluster 270\n",
      "사원,교환학생,여행사진,우붓,화산,자카르타,세계여행,발리,여행,인도네시아\n",
      "\n",
      "Cluster 280\n",
      "훈련,식품,준비,금리,치킨,소주,담배,보험,변호사,공감\n",
      "\n",
      "Cluster 290\n",
      "게임,웹툰,연극,공연,it,서평,뮤지컬,드라마,음악,리뷰\n"
     ]
    }
   ],
   "source": [
    "def get_top_keywords(data, clusters, labels, n_terms):\n",
    "    df = pd.DataFrame(data.todense()).groupby(clusters).mean()\n",
    "    \n",
    "    for i,r in df.iterrows():\n",
    "        if i%10 == 0:\n",
    "            print('\\nCluster {}'.format(i))\n",
    "            print(','.join([labels[t] for t in np.argsort(r)[-n_terms:]]))\n",
    "            \n",
    "            \n",
    "get_top_keywords(text, clusters, tfidf.get_feature_names(), 10)"
   ]
  },
  {
   "cell_type": "markdown",
   "metadata": {},
   "source": [
    "### Spherical K means"
   ]
  },
  {
   "cell_type": "markdown",
   "metadata": {},
   "source": [
    "우리 데이터의 keyword_list 의 경우 sparse하다. 기존 sklearn패키지의 Kmeans는 Euclidean distance를 사용하는데, 이 방법은 벡터의 길이에 영향을 받기 때문에 고차원 데이터에는 적합하지 않다. 따라서 이 대신 cosine distance, 1-cosine similarity를 적용해 이 문제를 해결할 수 있다."
   ]
  },
  {
   "cell_type": "markdown",
   "metadata": {},
   "source": [
    "그리고 앞에서 보았듯, 특정 keyword의 빈도수가 굉장히 높은 것을 알 수 있다. PPMI?"
   ]
  },
  {
   "cell_type": "markdown",
   "metadata": {},
   "source": [
    "참고: https://lovit.github.io/nlp/machine%20learning/2018/10/16/spherical_kmeans/"
   ]
  },
  {
   "cell_type": "code",
   "execution_count": 249,
   "metadata": {},
   "outputs": [
    {
     "name": "stdout",
     "output_type": "stream",
     "text": [
      "initialization_time=0.283127 sec, sparsity=0.000207\n",
      "n_iter=1, changed=400203, inertia=464801.725, iter_time=3.878 sec, sparsity=0.0613\n",
      "n_iter=2, changed=143924, inertia=391315.313, iter_time=3.704 sec, sparsity=0.0825\n",
      "n_iter=3, changed=75225, inertia=371637.739, iter_time=3.642 sec, sparsity=0.0914\n",
      "n_iter=4, changed=40671, inertia=365434.951, iter_time=3.797 sec, sparsity=0.0942\n",
      "n_iter=5, changed=25741, inertia=361447.659, iter_time=3.818 sec, sparsity=0.0952\n",
      "n_iter=6, changed=18085, inertia=359454.835, iter_time=3.767 sec, sparsity=0.0957\n",
      "n_iter=7, changed=13402, inertia=357767.980, iter_time=3.884 sec, sparsity=0.096\n",
      "n_iter=8, changed=9834, inertia=356946.842, iter_time=3.789 sec, sparsity=0.0962\n",
      "n_iter=9, changed=7790, inertia=355896.940, iter_time=3.575 sec, sparsity=0.0963\n",
      "n_iter=10, changed=6974, inertia=355512.115, iter_time=3.649 sec, sparsity=0.0965\n"
     ]
    }
   ],
   "source": [
    "from soyclustering import SphericalKMeans\n",
    "spherical_kmeans = SphericalKMeans(\n",
    "    n_clusters=300,\n",
    "    max_iter=10,\n",
    "    verbose=1,\n",
    "    init='similar_cut'\n",
    ")\n",
    "\n",
    "labels = spherical_kmeans.fit_predict(text)"
   ]
  },
  {
   "cell_type": "code",
   "execution_count": 250,
   "metadata": {},
   "outputs": [
    {
     "name": "stderr",
     "output_type": "stream",
     "text": [
      "/Users/seungmi/anaconda3/lib/python3.7/site-packages/matplotlib/backends/backend_agg.py:211: RuntimeWarning: Glyph 8722 missing from current font.\n",
      "  font.set_text(s, 0.0, flags=flags)\n",
      "/Users/seungmi/anaconda3/lib/python3.7/site-packages/matplotlib/backends/backend_agg.py:180: RuntimeWarning: Glyph 8722 missing from current font.\n",
      "  font.set_text(s, 0, flags=flags)\n"
     ]
    },
    {
     "data": {
      "image/png": "[encoded data removed]",
      "text/plain": [
       "<Figure size 1008x432 with 2 Axes>"
      ]
     },
     "metadata": {
      "needs_background": "light"
     },
     "output_type": "display_data"
    }
   ],
   "source": [
    "plot_tsne_pca(text, labels)"
   ]
  },
  {
   "cell_type": "code",
   "execution_count": 251,
   "metadata": {},
   "outputs": [],
   "source": [
    "atc['cluster'] = labels"
   ]
  },
  {
   "cell_type": "code",
   "execution_count": 252,
   "metadata": {},
   "outputs": [],
   "source": [
    "def get_top_keywords_spherical(data, clusters):\n",
    "    df = pd.DataFrame(data.groupby(clusters)['keyword_list'].agg(sum))\n",
    "    for i,r in df.iterrows():\n",
    "        if i%10 == 0:\n",
    "            print('\\nCluster {}'.format(i))\n",
    "            rtn = r.apply(lambda x: pd.Series(x.split()).value_counts()).sum().head(10)\n",
    "            print(\",\".join(rtn.index))\n",
    "            "
   ]
  },
  {
   "cell_type": "code",
   "execution_count": 253,
   "metadata": {
    "scrolled": false
   },
   "outputs": [
    {
     "name": "stdout",
     "output_type": "stream",
     "text": [
      "\n",
      "Cluster 0\n",
      "교육,가을,시,감성,문학,추억,감성글,필사,바람,시인\n",
      "\n",
      "Cluster 10\n",
      "아이,부모,아이아이,부모아이,아이부모,자녀교육,자녀,사춘기,부모교육,아빠\n",
      "\n",
      "Cluster 20\n",
      "레시피,레시피레시피,홈베이킹,베이킹,토마토,요리에세이,반찬,음식,다이어트,치즈\n",
      "\n",
      "Cluster 30\n",
      "대통령,문재인,선거,대선,투표,대통령문재인,노무현,박근혜,총선,안철수\n",
      "\n",
      "Cluster 40\n",
      "이야기,하늘,이야기하늘,구름,이야기이야기,하늘하늘,하늘이야기,이브,바람,이야기구름\n",
      "\n",
      "Cluster 50\n",
      "마음,마음마음,마음사랑,사랑,생각,에세이,마음생각,행복,감정,마음행복\n",
      "\n",
      "Cluster 60\n",
      "엄마,엄마엄마,육아,아이,사랑,육아엄마,아빠,엄마육아,사랑엄마,아들\n",
      "\n",
      "Cluster 70\n",
      "개발자,코딩,프로그래밍,인터넷,소프트웨어,개발자개발자,컴퓨터,프로그래머,노트북,c언어\n",
      "\n",
      "Cluster 80\n",
      "일상,일상일상,에세이,생각,일기,일상에세이,여행,에세이일상,행복,일상여행\n",
      "\n",
      "Cluster 90\n",
      "보안,해킹,보안프로젝트,보안보안프로젝트,보안보안,개인정보,악성코드,업데이트,온라인,정보보안\n",
      "\n",
      "Cluster 100\n",
      "소설,소설소설,문학,문학소설,시,단편소설,문학시,단편,서평,연재소설\n",
      "\n",
      "Cluster 110\n",
      "전원주택,목조주택,홈트리오,집짓기,집짓기전원주택,목조주택전원주택,단독주택,건축가,홈트리오전원주택,전원주택전원주택\n",
      "\n",
      "Cluster 120\n",
      "막걸리,소주,전통주,동생,술,음주,언니,술자리,청주,발효\n",
      "\n",
      "Cluster 130\n",
      "요가,명상,신용카드,운동,카드,감성글,신용카드추천,화장실,호흡,업무\n",
      "\n",
      "Cluster 140\n",
      "우리말,공무원,국어,한글,공무원국어,한국어,국어국어,한국어국어,바라기,한국사\n",
      "\n",
      "Cluster 150\n",
      "한강,채식,집밥,비건,김치,채식주의자,제철음식,감자,된장,김장\n",
      "\n",
      "Cluster 160\n",
      "나이,어른,중년,세월,어른나이,나이나이,나이어른,마흔,주름,나이중년\n",
      "\n",
      "Cluster 170\n",
      "이별,연애,이별이별,감성에세이이별,감성에세이,이별연애,연애이별,시,추억,그리움\n",
      "\n",
      "Cluster 180\n",
      "우울,불안,우울증,의미,기분,정신건강의학과,무기력,공황장애,월요일,당첨\n",
      "\n",
      "Cluster 190\n",
      "아버지,할머니,아버지아버지,할아버지,아버지할머니,할머니아버지,추억,할아버지아버지,할머니할머니,아들\n",
      "\n",
      "Cluster 200\n",
      "블록체인,비트코인,가상화폐,이더리움,암호화폐,블록체인블록체인,가상화폐비트코인,블록체인비트코인,비트코인블록체인,비트코인비트코인\n",
      "\n",
      "Cluster 210\n",
      "페미니즘,여성,여성페미니즘,페미니스트,여성혐오,페미니즘페미니즘,여성여성,페미니즘여성,성평등,페미니스트페미니즘\n",
      "\n",
      "Cluster 220\n",
      "예술,예술예술,문화,미술,전시,그림,문화예술,예술문화,예술가,예술그림\n",
      "\n",
      "Cluster 230\n",
      "베트남,여행,베트남베트남,하노이,베트남여행,다낭,여행베트남,싱가포르,해외취업,호치민\n",
      "\n",
      "Cluster 240\n",
      "마을,공동체,전문가,협동조합,벽화,사회적기업,사회공헌,주차,법원,교수\n",
      "\n",
      "Cluster 250\n",
      "공연,뮤지컬,공연뮤지컬,연극,공연연극,배우,공연공연,대학로,뮤지컬뮤지컬,콘서트\n",
      "\n",
      "Cluster 260\n",
      "남미여행,브라질,남미,경찰,검찰,아르헨티나,멕시코,볼리비아,콜롬비아,페루\n",
      "\n",
      "Cluster 270\n",
      "브런치북,승무원,크루즈,브런치북브런치북,브런치북승무원,그림,비행,다이어리,감성,그림에세이\n",
      "\n",
      "Cluster 280\n",
      "넷플릭스,다큐멘터리,친환경,영화제,단편영화,독립영화,촬영,유기농,KBS,다큐\n",
      "\n",
      "Cluster 290\n",
      "캘리그라피,캘리그라피캘리그라피,감성에세이,에세이,사랑,일러스트,공감에세이,손글씨,캘리그라피일러스트,글쓰기캘리그라피\n"
     ]
    }
   ],
   "source": [
    "get_top_keywords_spherical(atc, 'cluster')"
   ]
  },
  {
   "cell_type": "markdown",
   "metadata": {},
   "source": [
    "**클러스터별(카테고리로 사용할 계획) 탑 키워드를 뽑았을 때 위의 기존 Kmeans랑 비교해보면 꽤 속성이 비슷한 애들끼리 묶이는 걸 눈으로 확인할 수 있음<br> 그리고 keyword가 8만개정도니까 cluster 갯수를 더 늘려도 괜찮을 듯**"
   ]
  },
  {
   "cell_type": "markdown",
   "metadata": {},
   "source": [
    "## articles without any keyword?"
   ]
  },
  {
   "cell_type": "code",
   "execution_count": 266,
   "metadata": {},
   "outputs": [
    {
     "data": {
      "text/plain": [
       "(70065, 13)"
      ]
     },
     "execution_count": 266,
     "metadata": {},
     "output_type": "execute_result"
    }
   ],
   "source": [
    "atc.loc[atc['keyword_list'] == \"\"].shape"
   ]
  },
  {
   "cell_type": "code",
   "execution_count": 268,
   "metadata": {
    "scrolled": false
   },
   "outputs": [
    {
     "data": {
      "text/html": [
       "<div>\n",
       "<style scoped>\n",
       "    .dataframe tbody tr th:only-of-type {\n",
       "        vertical-align: middle;\n",
       "    }\n",
       "\n",
       "    .dataframe tbody tr th {\n",
       "        vertical-align: top;\n",
       "    }\n",
       "\n",
       "    .dataframe thead th {\n",
       "        text-align: right;\n",
       "    }\n",
       "</style>\n",
       "<table border=\"1\" class=\"dataframe\">\n",
       "  <thead>\n",
       "    <tr style=\"text-align: right;\">\n",
       "      <th></th>\n",
       "      <th>magazine_id</th>\n",
       "      <th>author_id</th>\n",
       "      <th>title</th>\n",
       "      <th>keyword_list</th>\n",
       "      <th>display_url</th>\n",
       "      <th>sub_title</th>\n",
       "      <th>reg_ts</th>\n",
       "      <th>id</th>\n",
       "      <th>article_id</th>\n",
       "      <th>reg_datetime</th>\n",
       "      <th>reg_dt</th>\n",
       "      <th>type</th>\n",
       "      <th>cluster</th>\n",
       "    </tr>\n",
       "  </thead>\n",
       "  <tbody>\n",
       "    <tr>\n",
       "      <th>2</th>\n",
       "      <td>0</td>\n",
       "      <td>@hannahajink</td>\n",
       "      <td>무엇을 위해</td>\n",
       "      <td></td>\n",
       "      <td>https://brunch.co.kr/@hannahajink/4</td>\n",
       "      <td>무엇 때문에</td>\n",
       "      <td>1447997287000</td>\n",
       "      <td>4</td>\n",
       "      <td>@hannahajink_4</td>\n",
       "      <td>2015-11-20 14:28:07</td>\n",
       "      <td>2015-11-20</td>\n",
       "      <td>개인</td>\n",
       "      <td>0</td>\n",
       "    </tr>\n",
       "    <tr>\n",
       "      <th>18</th>\n",
       "      <td>4104</td>\n",
       "      <td>@roke</td>\n",
       "      <td>고백하지 못할 고백</td>\n",
       "      <td></td>\n",
       "      <td>https://brunch.co.kr/@roke/70</td>\n",
       "      <td>My darling child</td>\n",
       "      <td>1455431436000</td>\n",
       "      <td>70</td>\n",
       "      <td>@roke_70</td>\n",
       "      <td>2016-02-14 15:30:36</td>\n",
       "      <td>2016-02-14</td>\n",
       "      <td>매거진</td>\n",
       "      <td>0</td>\n",
       "    </tr>\n",
       "    <tr>\n",
       "      <th>29</th>\n",
       "      <td>11698</td>\n",
       "      <td>@pencil-k</td>\n",
       "      <td>[작심361일차] 건너뛰기</td>\n",
       "      <td></td>\n",
       "      <td>https://brunch.co.kr/@pencil-k/478</td>\n",
       "      <td>D-4</td>\n",
       "      <td>1499672775000</td>\n",
       "      <td>478</td>\n",
       "      <td>@pencil-k_478</td>\n",
       "      <td>2017-07-10 16:46:15</td>\n",
       "      <td>2017-07-10</td>\n",
       "      <td>매거진</td>\n",
       "      <td>0</td>\n",
       "    </tr>\n",
       "    <tr>\n",
       "      <th>43</th>\n",
       "      <td>1729</td>\n",
       "      <td>@skyzakard</td>\n",
       "      <td>촉촉한 눈시울로 '내 삶'을 돌아봤습니다...</td>\n",
       "      <td></td>\n",
       "      <td>https://brunch.co.kr/@skyzakard/73</td>\n",
       "      <td>개인의 눈으로 바라본 1차 세계대전, &lt;발리언트 하츠: 더 그레이트 워</td>\n",
       "      <td>1446125947000</td>\n",
       "      <td>73</td>\n",
       "      <td>@skyzakard_73</td>\n",
       "      <td>2015-10-29 22:39:07</td>\n",
       "      <td>2015-10-29</td>\n",
       "      <td>매거진</td>\n",
       "      <td>0</td>\n",
       "    </tr>\n",
       "    <tr>\n",
       "      <th>47</th>\n",
       "      <td>4542</td>\n",
       "      <td>@sooband</td>\n",
       "      <td>학교의 진화 다큐 OST 작업기</td>\n",
       "      <td></td>\n",
       "      <td>https://brunch.co.kr/@sooband/60</td>\n",
       "      <td></td>\n",
       "      <td>1449730053000</td>\n",
       "      <td>60</td>\n",
       "      <td>@sooband_60</td>\n",
       "      <td>2015-12-10 15:47:33</td>\n",
       "      <td>2015-12-10</td>\n",
       "      <td>매거진</td>\n",
       "      <td>0</td>\n",
       "    </tr>\n",
       "  </tbody>\n",
       "</table>\n",
       "</div>"
      ],
      "text/plain": [
       "    magazine_id     author_id                      title keyword_list  \\\n",
       "2             0  @hannahajink                     무엇을 위해                \n",
       "18         4104         @roke                 고백하지 못할 고백                \n",
       "29        11698     @pencil-k             [작심361일차] 건너뛰기                \n",
       "43         1729    @skyzakard  촉촉한 눈시울로 '내 삶'을 돌아봤습니다...                \n",
       "47         4542      @sooband          학교의 진화 다큐 OST 작업기                \n",
       "\n",
       "                            display_url  \\\n",
       "2   https://brunch.co.kr/@hannahajink/4   \n",
       "18        https://brunch.co.kr/@roke/70   \n",
       "29   https://brunch.co.kr/@pencil-k/478   \n",
       "43   https://brunch.co.kr/@skyzakard/73   \n",
       "47     https://brunch.co.kr/@sooband/60   \n",
       "\n",
       "                                  sub_title         reg_ts   id  \\\n",
       "2                                    무엇 때문에  1447997287000    4   \n",
       "18                         My darling child  1455431436000   70   \n",
       "29                                      D-4  1499672775000  478   \n",
       "43  개인의 눈으로 바라본 1차 세계대전, <발리언트 하츠: 더 그레이트 워  1446125947000   73   \n",
       "47                                           1449730053000   60   \n",
       "\n",
       "        article_id        reg_datetime      reg_dt type  cluster  \n",
       "2   @hannahajink_4 2015-11-20 14:28:07  2015-11-20   개인        0  \n",
       "18        @roke_70 2016-02-14 15:30:36  2016-02-14  매거진        0  \n",
       "29   @pencil-k_478 2017-07-10 16:46:15  2017-07-10  매거진        0  \n",
       "43   @skyzakard_73 2015-10-29 22:39:07  2015-10-29  매거진        0  \n",
       "47     @sooband_60 2015-12-10 15:47:33  2015-12-10  매거진        0  "
      ]
     },
     "execution_count": 268,
     "metadata": {},
     "output_type": "execute_result"
    }
   ],
   "source": [
    "atc.loc[atc['keyword_list'] == \"\"].head()"
   ]
  },
  {
   "cell_type": "code",
   "execution_count": 271,
   "metadata": {},
   "outputs": [
    {
     "data": {
      "text/plain": [
       "10.9375"
      ]
     },
     "execution_count": 271,
     "metadata": {},
     "output_type": "execute_result"
    }
   ],
   "source": [
    "7/64*100"
   ]
  },
  {
   "cell_type": "markdown",
   "metadata": {},
   "source": [
    "대략 7만개의 (10%) article이 키워드를 갖고있지 않음. 포스팅을 확인해보니 그냥 작가가 설정을 안한 경우 or 글의 본문이 굉장히 짧은 경우가 존재. <br>\n",
    "전자의 경우 keyword extraction으로 해결하고 후자의 경우는 아예 추천할 필요가 있을까? 라는 생각\n"
   ]
  },
  {
   "cell_type": "markdown",
   "metadata": {},
   "source": [
    "아니면 해당 작가의 이전 글들 keyword 따라가도 될 것 같고"
   ]
  },
  {
   "cell_type": "markdown",
   "metadata": {},
   "source": [
    "## Load Contents\n"
   ]
  },
  {
   "cell_type": "markdown",
   "metadata": {},
   "source": [
    "암호화되어있어서 keyword extraction을 할 수는 없을 것 같고,\n",
    "본문 길이가 지나치게 짧은 애들은 거를 수 있을 듯"
   ]
  },
  {
   "cell_type": "markdown",
   "metadata": {},
   "source": [
    "아니다... 이미지 파일로 올리는 작가들도 많아...<br>\n",
    "근데 그 노고를 생각하면 이미지 파일로 올리는 작가들은 게시글 한두개만 쓰는건 아닐테고. 몇개이상 포스팅한 작가들은 제외해도?"
   ]
  },
  {
   "cell_type": "code",
   "execution_count": 272,
   "metadata": {},
   "outputs": [],
   "source": [
    "contents6 = pd.read_json(directory + '/contents/data.6', lines=True)"
   ]
  },
  {
   "cell_type": "code",
   "execution_count": 284,
   "metadata": {
    "scrolled": true
   },
   "outputs": [
    {
     "data": {
      "text/html": [
       "<div>\n",
       "<style scoped>\n",
       "    .dataframe tbody tr th:only-of-type {\n",
       "        vertical-align: middle;\n",
       "    }\n",
       "\n",
       "    .dataframe tbody tr th {\n",
       "        vertical-align: top;\n",
       "    }\n",
       "\n",
       "    .dataframe thead th {\n",
       "        text-align: right;\n",
       "    }\n",
       "</style>\n",
       "<table border=\"1\" class=\"dataframe\">\n",
       "  <thead>\n",
       "    <tr style=\"text-align: right;\">\n",
       "      <th></th>\n",
       "      <th>chars</th>\n",
       "      <th>morphs</th>\n",
       "      <th>id</th>\n",
       "    </tr>\n",
       "  </thead>\n",
       "  <tbody>\n",
       "    <tr>\n",
       "      <th>50</th>\n",
       "      <td>[]</td>\n",
       "      <td>[]</td>\n",
       "      <td>@happy-snowman_54</td>\n",
       "    </tr>\n",
       "    <tr>\n",
       "      <th>51</th>\n",
       "      <td>[]</td>\n",
       "      <td>[]</td>\n",
       "      <td>@yspecial_66</td>\n",
       "    </tr>\n",
       "    <tr>\n",
       "      <th>53</th>\n",
       "      <td>[]</td>\n",
       "      <td>[]</td>\n",
       "      <td>@happy-snowman_55</td>\n",
       "    </tr>\n",
       "    <tr>\n",
       "      <th>97</th>\n",
       "      <td>[[438/SS, 485/SL, 441/SS, 483+172+172/SL], [17...</td>\n",
       "      <td>[[575/SS, 5131/SL, 583/SS, 2236/SL], [9411/SL]...</td>\n",
       "      <td>@kyutofu_94</td>\n",
       "    </tr>\n",
       "    <tr>\n",
       "      <th>153</th>\n",
       "      <td>[]</td>\n",
       "      <td>[]</td>\n",
       "      <td>@happy-snowman_56</td>\n",
       "    </tr>\n",
       "    <tr>\n",
       "      <th>...</th>\n",
       "      <td>...</td>\n",
       "      <td>...</td>\n",
       "      <td>...</td>\n",
       "    </tr>\n",
       "    <tr>\n",
       "      <th>42029</th>\n",
       "      <td>[]</td>\n",
       "      <td>[]</td>\n",
       "      <td>@bluechamber_213</td>\n",
       "    </tr>\n",
       "    <tr>\n",
       "      <th>42085</th>\n",
       "      <td>[]</td>\n",
       "      <td>[]</td>\n",
       "      <td>@choeyulla_16</td>\n",
       "    </tr>\n",
       "    <tr>\n",
       "      <th>42114</th>\n",
       "      <td>[[383/SW], [383/SW], [383/SW]]</td>\n",
       "      <td>[[437/SW], [437/SW], [437/SW]]</td>\n",
       "      <td>@youjinlee4p6f_727</td>\n",
       "    </tr>\n",
       "    <tr>\n",
       "      <th>42138</th>\n",
       "      <td>[[383/SW], [383/SW], [383/SW]]</td>\n",
       "      <td>[[437/SW], [437/SW], [437/SW]]</td>\n",
       "      <td>@dprnrn234_279</td>\n",
       "    </tr>\n",
       "    <tr>\n",
       "      <th>42188</th>\n",
       "      <td>[[3390/IC]]</td>\n",
       "      <td>[[64510/IC]]</td>\n",
       "      <td>@btest_182</td>\n",
       "    </tr>\n",
       "  </tbody>\n",
       "</table>\n",
       "<p>950 rows × 3 columns</p>\n",
       "</div>"
      ],
      "text/plain": [
       "                                                   chars  \\\n",
       "50                                                    []   \n",
       "51                                                    []   \n",
       "53                                                    []   \n",
       "97     [[438/SS, 485/SL, 441/SS, 483+172+172/SL], [17...   \n",
       "153                                                   []   \n",
       "...                                                  ...   \n",
       "42029                                                 []   \n",
       "42085                                                 []   \n",
       "42114                     [[383/SW], [383/SW], [383/SW]]   \n",
       "42138                     [[383/SW], [383/SW], [383/SW]]   \n",
       "42188                                        [[3390/IC]]   \n",
       "\n",
       "                                                  morphs                  id  \n",
       "50                                                    []   @happy-snowman_54  \n",
       "51                                                    []        @yspecial_66  \n",
       "53                                                    []   @happy-snowman_55  \n",
       "97     [[575/SS, 5131/SL, 583/SS, 2236/SL], [9411/SL]...         @kyutofu_94  \n",
       "153                                                   []   @happy-snowman_56  \n",
       "...                                                  ...                 ...  \n",
       "42029                                                 []    @bluechamber_213  \n",
       "42085                                                 []       @choeyulla_16  \n",
       "42114                     [[437/SW], [437/SW], [437/SW]]  @youjinlee4p6f_727  \n",
       "42138                     [[437/SW], [437/SW], [437/SW]]      @dprnrn234_279  \n",
       "42188                                       [[64510/IC]]          @btest_182  \n",
       "\n",
       "[950 rows x 3 columns]"
      ]
     },
     "execution_count": 284,
     "metadata": {},
     "output_type": "execute_result"
    }
   ],
   "source": [
    "contents6[contents6.chars.apply(len) < 5]"
   ]
  },
  {
   "cell_type": "markdown",
   "metadata": {},
   "source": [
    "##  real \"active\" users"
   ]
  },
  {
   "cell_type": "markdown",
   "metadata": {},
   "source": [
    "**6개월간 몇 번 이상 방문한 유저들을 진짜 \"active\"한 유저라고 할 수 있을까?** <br>\n"
   ]
  },
  {
   "cell_type": "markdown",
   "metadata": {},
   "source": [
    "75% 유저가 주어진 6개월 기간동안 7회 이하 방문. 일단 얘네만 갖고 해보기"
   ]
  },
  {
   "cell_type": "code",
   "execution_count": 286,
   "metadata": {},
   "outputs": [],
   "source": [
    "# grp_by_user.loc[grp_by_user['visit_day_cnt'] >=7, 'user_id']\n",
    "# off_data_u = off_data[off_data.user_id.isin(upp_visit_user)]"
   ]
  },
  {
   "cell_type": "code",
   "execution_count": 305,
   "metadata": {},
   "outputs": [],
   "source": [
    "uratings = off_data_u.groupby(['user_id','article_id']).size().reset_index(name = \"views\")"
   ]
  },
  {
   "cell_type": "code",
   "execution_count": 295,
   "metadata": {},
   "outputs": [
    {
     "name": "stdout",
     "output_type": "stream",
     "text": [
      "505841\n",
      "293340\n"
     ]
    }
   ],
   "source": [
    "print(read_raw.article_id.nunique()) # 50만\n",
    "print(off_data_u.article_id.nunique()) # 29만"
   ]
  },
  {
   "cell_type": "code",
   "execution_count": 306,
   "metadata": {},
   "outputs": [
    {
     "data": {
      "text/html": [
       "<div>\n",
       "<style scoped>\n",
       "    .dataframe tbody tr th:only-of-type {\n",
       "        vertical-align: middle;\n",
       "    }\n",
       "\n",
       "    .dataframe tbody tr th {\n",
       "        vertical-align: top;\n",
       "    }\n",
       "\n",
       "    .dataframe thead th {\n",
       "        text-align: right;\n",
       "    }\n",
       "</style>\n",
       "<table border=\"1\" class=\"dataframe\">\n",
       "  <thead>\n",
       "    <tr style=\"text-align: right;\">\n",
       "      <th></th>\n",
       "      <th>user_id</th>\n",
       "      <th>article_id</th>\n",
       "      <th>views</th>\n",
       "    </tr>\n",
       "  </thead>\n",
       "  <tbody>\n",
       "    <tr>\n",
       "      <th>0</th>\n",
       "      <td>#000fe61478d384d09f3bcdd0c2f5227d</td>\n",
       "      <td>@bisanggom_39</td>\n",
       "      <td>2</td>\n",
       "    </tr>\n",
       "    <tr>\n",
       "      <th>1</th>\n",
       "      <td>#000fe61478d384d09f3bcdd0c2f5227d</td>\n",
       "      <td>@blade31_216</td>\n",
       "      <td>2</td>\n",
       "    </tr>\n",
       "    <tr>\n",
       "      <th>2</th>\n",
       "      <td>#000fe61478d384d09f3bcdd0c2f5227d</td>\n",
       "      <td>@blade31_221</td>\n",
       "      <td>2</td>\n",
       "    </tr>\n",
       "    <tr>\n",
       "      <th>3</th>\n",
       "      <td>#000fe61478d384d09f3bcdd0c2f5227d</td>\n",
       "      <td>@blade31_222</td>\n",
       "      <td>2</td>\n",
       "    </tr>\n",
       "    <tr>\n",
       "      <th>4</th>\n",
       "      <td>#000fe61478d384d09f3bcdd0c2f5227d</td>\n",
       "      <td>@blade31_45</td>\n",
       "      <td>1</td>\n",
       "    </tr>\n",
       "  </tbody>\n",
       "</table>\n",
       "</div>"
      ],
      "text/plain": [
       "                             user_id     article_id  views\n",
       "0  #000fe61478d384d09f3bcdd0c2f5227d  @bisanggom_39      2\n",
       "1  #000fe61478d384d09f3bcdd0c2f5227d   @blade31_216      2\n",
       "2  #000fe61478d384d09f3bcdd0c2f5227d   @blade31_221      2\n",
       "3  #000fe61478d384d09f3bcdd0c2f5227d   @blade31_222      2\n",
       "4  #000fe61478d384d09f3bcdd0c2f5227d    @blade31_45      1"
      ]
     },
     "execution_count": 306,
     "metadata": {},
     "output_type": "execute_result"
    }
   ],
   "source": [
    "uratings.head()"
   ]
  },
  {
   "cell_type": "code",
   "execution_count": null,
   "metadata": {},
   "outputs": [],
   "source": []
  }
 ],
 "metadata": {
  "kernelspec": {
   "display_name": "Python 3",
   "language": "python",
   "name": "python3"
  },
  "language_info": {
   "codemirror_mode": {
    "name": "ipython",
    "version": 3
   },
   "file_extension": ".py",
   "mimetype": "text/x-python",
   "name": "python",
   "nbconvert_exporter": "python",
   "pygments_lexer": "ipython3",
   "version": "3.7.3"
  }
 },
 "nbformat": 4,
 "nbformat_minor": 2
}
